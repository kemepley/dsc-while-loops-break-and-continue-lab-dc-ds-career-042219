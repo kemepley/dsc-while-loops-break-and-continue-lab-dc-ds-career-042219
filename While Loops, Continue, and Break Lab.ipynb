{
 "cells": [
  {
   "cell_type": "markdown",
   "metadata": {},
   "source": [
    "# While Loops, Break and Continue - Lab"
   ]
  },
  {
   "cell_type": "markdown",
   "metadata": {},
   "source": [
    "## Introduction\n",
    "In this lab, we will practice using `while` loops, and `break` and `continue` statements in our code. We will use our control flow statements to iterate through collections and filter out or selectively operate on each element. We'll use `while` loops to perform operations until a given condition is no longer true."
   ]
  },
  {
   "cell_type": "markdown",
   "metadata": {},
   "source": [
    "## Objectives\n",
    "You will be able to:\n",
    "* Use a break and continue statements inside a loop\n",
    "* Understand, explain and use while loops"
   ]
  },
  {
   "cell_type": "markdown",
   "metadata": {},
   "source": [
    "## Instructions\n",
    "\n",
    "### While Loops\n",
    "Use while loops to perform the below operations and get the expected return values"
   ]
  },
  {
   "cell_type": "code",
   "execution_count": 2,
   "metadata": {},
   "outputs": [
    {
     "name": "stdout",
     "output_type": "stream",
     "text": [
      "Slices of pie remaining:  6 \n",
      " Slices eaten:  0\n",
      "Slices of pie remaining:  5 \n",
      " Slices eaten:  1\n",
      "Slices of pie remaining:  4 \n",
      " Slices eaten:  2\n",
      "Slices of pie remaining:  3 \n",
      " Slices eaten:  3\n",
      "Slices of pie remaining:  2 \n",
      " Slices eaten:  4\n",
      "Slices of pie remaining:  1 \n",
      " Slices eaten:  5\n",
      "Slices of pie remaining:  0 \n",
      " Slices eaten:  6\n"
     ]
    }
   ],
   "source": [
    "slices_of_pie = 6\n",
    "slices_eaten = 0\n",
    "# use a while loop to eat each slice of pie\n",
    "# add each slice to the slices_eaten variable\n",
    "\n",
    "while slices_of_pie >= 0:\n",
    "    print(\"Slices of pie remaining: \", slices_of_pie, \"\\n Slices eaten: \", slices_eaten)\n",
    "    slices_of_pie -=1\n",
    "    slices_eaten += 1\n",
    "        "
   ]
  },
  {
   "cell_type": "code",
   "execution_count": 3,
   "metadata": {},
   "outputs": [
    {
     "name": "stdout",
     "output_type": "stream",
     "text": [
      "Add a pancake to the skillet.\n",
      "Flip it.\n",
      "Flip it again.\n",
      "This one's ready. Total pancakes =  1\n",
      "Add a pancake to the skillet.\n",
      "Flip it.\n",
      "Flip it again.\n",
      "This one's ready. Total pancakes =  2\n",
      "Add a pancake to the skillet.\n",
      "Flip it.\n",
      "Flip it again.\n",
      "This one's ready. Total pancakes =  3\n",
      "Add a pancake to the skillet.\n",
      "Flip it.\n",
      "Flip it again.\n",
      "This one's ready. Total pancakes =  4\n",
      "Add a pancake to the skillet.\n",
      "Flip it.\n",
      "Flip it again.\n",
      "This one's ready. Total pancakes =  5\n",
      "That's enough\n",
      "Total remaining time:  1063\n"
     ]
    }
   ],
   "source": [
    "time_for_breakfast = 1468 # in seconds\n",
    "number_of_cooked_pancakes = 0\n",
    "# use a while loop to make yourself 5 pancakes for breakfast\n",
    "# each pancake takes 27 seconds to cook on each side\n",
    "# you must decrease the time_for_breakfast each time you \n",
    "# add a pancake to the skillet (frying pan) or flip a pancake (i.e. 2 times per pancake)\n",
    "# there is only room for one pancake at a time\n",
    "\n",
    "while time_for_breakfast >=0:\n",
    "    if number_of_cooked_pancakes <5:\n",
    "        print(\"Add a pancake to the skillet.\")\n",
    "        time_for_breakfast -= 27\n",
    "        print(\"Flip it.\")\n",
    "        time_for_breakfast -= 27\n",
    "        print(\"Flip it again.\")\n",
    "        time_for_breakfast -= 27\n",
    "        number_of_cooked_pancakes +=1\n",
    "        print(\"This one's ready. Total pancakes = \", number_of_cooked_pancakes)\n",
    "    else:\n",
    "        print(\"That's enough\")\n",
    "        print(\"Total remaining time: \", time_for_breakfast)\n",
    "        break\n"
   ]
  },
  {
   "cell_type": "markdown",
   "metadata": {},
   "source": [
    "## For Loops"
   ]
  },
  {
   "cell_type": "markdown",
   "metadata": {},
   "source": [
    "> **Hint:** You may find the [remove method](https://www.programiz.com/python-programming/methods/list/remove) to be useful for the next problem"
   ]
  },
  {
   "cell_type": "code",
   "execution_count": 4,
   "metadata": {},
   "outputs": [
    {
     "name": "stdout",
     "output_type": "stream",
     "text": [
      "[1, 3, 5, 7, 9, 11, 13, 15, 17, 19, 21, 23, 25, 27, 29]\n",
      "[0, 2, 4, 6, 8, 10, 12, 14, 16, 18, 20, 22, 24, 26, 28]\n"
     ]
    }
   ],
   "source": [
    "line_of_hungry_patrons = list(range(0,30))\n",
    "fed_patrons = []\n",
    "# use a while loop to to feed the hungry patrons who have an even number\n",
    "# add the patrons with an even number to the fed_patrons list\n",
    "# then remove the even numbered patrons from the line_of_hungry_patrons\n",
    "# each list should contain 15 elements\n",
    "\n",
    "while len(fed_patrons) < 15:\n",
    "    for person in line_of_hungry_patrons:\n",
    "        if person % 2 == 0:\n",
    "            fed_patrons.append(person)\n",
    "            line_of_hungry_patrons.remove(person)\n",
    "        else:\n",
    "            continue\n",
    "\n",
    "print(line_of_hungry_patrons)\n",
    "print(fed_patrons)"
   ]
  },
  {
   "cell_type": "markdown",
   "metadata": {},
   "source": [
    "### `break` And `continue` Statements"
   ]
  },
  {
   "cell_type": "markdown",
   "metadata": {},
   "source": [
    "We have a list of person objects with all kinds of attributes. We'll use loops to find a person that meets a certain requirement that we are looking for or create new lists with a certain subset of elements. Write for loops with conditional statements in conjunction with `break` and `continue` to get the desired output."
   ]
  },
  {
   "cell_type": "code",
   "execution_count": 5,
   "metadata": {},
   "outputs": [],
   "source": [
    "people = [\n",
    "    {'name': \"Daniel\", 'age': 29, 'job': \"Engineer\", 'pet': \"Cat\", 'pet_name': \"Gato\"}, \n",
    "    {'name': \"Katie\", 'age': 30, 'job': \"Teacher\", 'pet': \"Dog\", 'pet_name': \"Frank\"},\n",
    "    {'name': \"Owen\", 'age': 26, 'job': \"Sales person\", 'pet': \"Cat\", 'pet_name': \"Cosmo\"},\n",
    "    {'name': \"Josh\", 'age': 22, 'job': \"Student\", 'pet': \"Cat\", 'pet_name': \"Chat\"},\n",
    "    {'name': \"Estelle\", 'age': 35, 'job': \"French Diplomat\", 'pet': \"Dog\", 'pet_name': \"Gabby\"},\n",
    "    {'name': \"Gustav\", 'age': 24, 'job': \"Brewer\", 'pet': \"Dog\", 'pet_name': \"Helen\"}\n",
    "]\n"
   ]
  },
  {
   "cell_type": "code",
   "execution_count": 6,
   "metadata": {},
   "outputs": [
    {
     "name": "stdout",
     "output_type": "stream",
     "text": [
      "Katie 1\n"
     ]
    }
   ],
   "source": [
    "# use the for loop below to find the *first* person in the list of people that has a dog as their pet\n",
    "# the iteration count shouldn't exceed 2 iterations\n",
    "first_dog_person = None\n",
    "iteration_count = 0\n",
    "for person in people:\n",
    "    if people[iteration_count]['pet'] != 'Dog':  \n",
    "        iteration_count += 1\n",
    "        continue\n",
    "    else:\n",
    "        first_dog_person = people[iteration_count]['name']\n",
    "        break\n",
    "  \n",
    "\n",
    "print(first_dog_person, iteration_count)"
   ]
  },
  {
   "cell_type": "code",
   "execution_count": 7,
   "metadata": {},
   "outputs": [
    {
     "data": {
      "text/plain": [
       "['Owen', 'Josh']"
      ]
     },
     "execution_count": 7,
     "metadata": {},
     "output_type": "execute_result"
    }
   ],
   "source": [
    "# use a for loop to create a list of the cat owners who are under the age of 28\n",
    "cat_owners = None\n",
    "idx = 0\n",
    "\n",
    "cat_people = []\n",
    "for person in people:\n",
    "    if people[idx]['pet'] == 'Cat' and people[idx]['age'] < 28:\n",
    "        cat_people.append(people[idx]['name'])\n",
    "    idx +=1\n",
    "    cat_owners = cat_people\n",
    "cat_owners"
   ]
  },
  {
   "cell_type": "code",
   "execution_count": 8,
   "metadata": {},
   "outputs": [
    {
     "data": {
      "text/plain": [
       "'Katie'"
      ]
     },
     "execution_count": 8,
     "metadata": {},
     "output_type": "execute_result"
    }
   ],
   "source": [
    "# use a for loop to find the first person who is above 29 years old in our list of people\n",
    "# remember to use a break and or continue statement\n",
    "thirty_something_yr_old = None\n",
    "idx = 0\n",
    "# for loop goes here\n",
    "for person in people:\n",
    "    if people[idx]['age'] > 29:\n",
    "        thirty_something_yr_old = people[idx]['name']\n",
    "        break\n",
    "    else:\n",
    "        idx +=1\n",
    "        \n",
    "thirty_something_yr_old\n",
    "    "
   ]
  },
  {
   "cell_type": "code",
   "execution_count": 9,
   "metadata": {},
   "outputs": [
    {
     "name": "stdout",
     "output_type": "stream",
     "text": [
      "['Katie', 'Estelle', 'Gustav']\n",
      "['Frank', 'Gabby', 'Helen']\n"
     ]
    }
   ],
   "source": [
    "# use a for loop to create a list of person names and another list of pet names for all dog owners\n",
    "dog_owner_names = []\n",
    "dog_names = []\n",
    "idx = 0\n",
    "# for loop goes here\n",
    "for person in people:\n",
    "    if people[idx][\"pet\"] == \"Dog\":\n",
    "        dog_owner_names.append(people[idx][\"name\"])\n",
    "        dog_names.append(people[idx][\"pet_name\"])\n",
    "        idx += 1\n",
    "    else:\n",
    "        idx +=1\n",
    "\n",
    "print(dog_owner_names)\n",
    "print(dog_names)\n"
   ]
  },
  {
   "cell_type": "code",
   "execution_count": 14,
   "metadata": {},
   "outputs": [
    {
     "name": "stdout",
     "output_type": "stream",
     "text": [
      "[11, 13, 15, 17, 19, 21, 23, 25, 27, 29, 31, 33, 35, 37, 39, 41, 43, 45, 47, 49, 51, 53, 55, 57, 59, 61, 63, 65, 67, 69, 71, 73, 75, 77, 79]\n",
      "length of list:  35\n"
     ]
    }
   ],
   "source": [
    "# use a for loop to create a list of odd numbers from the list of numbers from 0 to 100\n",
    "# each time there is an odd number, add 10 to it and append it to the list_of_odd_numbers_plus_ten\n",
    "# stop adding numbers to the list when there are 35 numbers\n",
    "# use break and continue statements in your code\n",
    "list_of_numbers = list(range(0,100))\n",
    "list_of_odd_numbers_plus_ten = []\n",
    "for number in list_of_numbers:\n",
    "    if len(list_of_odd_numbers_plus_ten) == 35:\n",
    "        break\n",
    "    elif number % 2 != 0:\n",
    "        list_of_odd_numbers_plus_ten.append(number + 10)\n",
    "    else:\n",
    "        continue\n",
    "            \n",
    "print(list_of_odd_numbers_plus_ten)\n",
    "print(\"length of list: \", len(list_of_odd_numbers_plus_ten))"
   ]
  },
  {
   "cell_type": "markdown",
   "metadata": {},
   "source": [
    "## Summary"
   ]
  },
  {
   "cell_type": "markdown",
   "metadata": {},
   "source": [
    "In this lab, we practiced using while loops, which continue executing their block of code until the given condition is no longer truthy. This is useful for instances where we do not have a collection or do not need a collection to solve our problem, especially when we would only like to stop the process according to a certain condition. We then practiced using control flow statements, `break` and `continue`, to selectively operate on elements, append them to new lists, or assign them to new variables."
   ]
  }
 ],
 "metadata": {
  "kernelspec": {
   "display_name": "Python 3",
   "language": "python",
   "name": "python3"
  },
  "language_info": {
   "codemirror_mode": {
    "name": "ipython",
    "version": 3
   },
   "file_extension": ".py",
   "mimetype": "text/x-python",
   "name": "python",
   "nbconvert_exporter": "python",
   "pygments_lexer": "ipython3",
   "version": "3.7.3"
  }
 },
 "nbformat": 4,
 "nbformat_minor": 2
}
